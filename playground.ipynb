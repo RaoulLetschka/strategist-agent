{
 "cells": [
  {
   "cell_type": "code",
   "execution_count": 1,
   "id": "e5a1a9ec",
   "metadata": {},
   "outputs": [],
   "source": [
    "import agents"
   ]
  },
  {
   "cell_type": "code",
   "execution_count": 2,
   "id": "c6a73a96",
   "metadata": {},
   "outputs": [],
   "source": [
    "from agents import Agent, WebSearchTool\n",
    "from agents.model_settings import ModelSettings\n",
    "\n",
    "SWOT_ANALYSIS = ['STRENGHTS', 'WEAKNESSES', 'OPPORTUNITIES', 'THREATS']\n",
    "\n",
    "INSTRUCTIONS = (\n",
    "    \"You are 1 of the 4 research assistants for doing a SWOT analysis for a given company. \"\n",
    "    f\"Your job is to search the web for information on the {SWOT_ANALYSIS[0]} of the company. \"\n",
    "    \"Produce a concise summary of the results. The summary must 2-3 paragraphs and less than 300\"\n",
    "    \"words. Capture the main points. Write succinctly, no need to have complete sentences or good\"\n",
    "    \"grammar. This will be consumed by someone synthesizing a report, so its vital you capture the\"\n",
    "    \"essence and ignore any fluff. Do not include any additional commentary other than the summary\"\n",
    "    \"itself.\"\n",
    ")\n",
    "\n",
    "search_agent = Agent(\n",
    "    name=f\"{SWOT_ANALYSIS[0]} Search agent\",\n",
    "    instructions=INSTRUCTIONS,\n",
    "    tools=[WebSearchTool()],\n",
    "    model_settings=ModelSettings(tool_choice=\"required\"),\n",
    ")"
   ]
  },
  {
   "cell_type": "code",
   "execution_count": null,
   "id": "ad8678dd",
   "metadata": {},
   "outputs": [],
   "source": []
  }
 ],
 "metadata": {
  "kernelspec": {
   "display_name": ".venv",
   "language": "python",
   "name": "python3"
  },
  "language_info": {
   "codemirror_mode": {
    "name": "ipython",
    "version": 3
   },
   "file_extension": ".py",
   "mimetype": "text/x-python",
   "name": "python",
   "nbconvert_exporter": "python",
   "pygments_lexer": "ipython3",
   "version": "3.13.2"
  }
 },
 "nbformat": 4,
 "nbformat_minor": 5
}
