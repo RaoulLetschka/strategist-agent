{
 "cells": [
  {
   "cell_type": "code",
   "execution_count": null,
   "id": "e5a1a9ec",
   "metadata": {},
   "outputs": [],
   "source": [
    "from src.custom_agents.planner_agent import PlannerAgent\n",
    "\n",
    "planner_agent = PlannerAgent()\n"
   ]
  },
  {
   "cell_type": "code",
   "execution_count": null,
   "id": "98298f9c",
   "metadata": {},
   "outputs": [],
   "source": [
    "await planner_agent.execute(\"Make a SWOT analysis for apple Inc.\")"
   ]
  },
  {
   "cell_type": "code",
   "execution_count": null,
   "id": "9dbd1c99",
   "metadata": {},
   "outputs": [],
   "source": [
    "from src.custom_agents.base import BaseAgent\n",
    "import os \n",
    "agent = BaseAgent(\"test bot\", \"\", os.getenv(\"\"))\n",
    "await agent.execute(\"Make a SWOT analysis for apple Inc.\")"
   ]
  },
  {
   "cell_type": "code",
   "execution_count": null,
   "id": "56ed6ece",
   "metadata": {},
   "outputs": [],
   "source": [
    "import os\n",
    "from dotenv import load_dotenv\n",
    "from openai import AzureOpenAI, AsyncAzureOpenAI\n",
    "\n",
    "_ = load_dotenv()\n",
    "\n",
    "client = AsyncAzureOpenAI(\n",
    "    api_key=os.getenv(\"AZURE_OPENAI_API_KEY\"),\n",
    "    azure_endpoint=os.getenv(\"AZURE_OPENAI_ENDPOINT\"),\n",
    "    api_version=os.getenv(\"AZURE_OPENAI_API_VERSION\"),\n",
    ")"
   ]
  },
  {
   "cell_type": "code",
   "execution_count": null,
   "id": "4f471619",
   "metadata": {},
   "outputs": [],
   "source": [
    "from agents import Agent, Runner, OpenAIChatCompletionsModel\n",
    "\n",
    "agent = Agent(\n",
    "    name=\"Assistant\",\n",
    "    instructions=\"You are a helpful assistant\",\n",
    "    model=OpenAIChatCompletionsModel(\n",
    "        model=os.getenv(\"GPT4O_MINI_DEPLOYMENT\"),\n",
    "        openai_client=client,\n",
    "    )\n",
    ")"
   ]
  },
  {
   "cell_type": "code",
   "execution_count": null,
   "id": "05b4c1e1",
   "metadata": {},
   "outputs": [],
   "source": [
    "result = await Runner.run(\n",
    "    agent,\n",
    "    \"Make a SWOT analysis for apple Inc.\",\n",
    ")"
   ]
  },
  {
   "cell_type": "code",
   "execution_count": null,
   "id": "0f914f12",
   "metadata": {},
   "outputs": [],
   "source": [
    "result.raw_responses"
   ]
  },
  {
   "cell_type": "code",
   "execution_count": null,
   "id": "2a9dda7f",
   "metadata": {},
   "outputs": [],
   "source": [
    "from custom_agents.swot_agent import SWOTAgent\n",
    "\n",
    "planner_agent = SWOTAgent()\n",
    "resutl = await planner_agent.execute(\"Make a SWOT analysis for apple Inc.\")"
   ]
  },
  {
   "cell_type": "code",
   "execution_count": null,
   "id": "51d8bf2b",
   "metadata": {},
   "outputs": [],
   "source": [
    "for output in resutl.final_output:\n",
    "    print(output)"
   ]
  },
  {
   "cell_type": "code",
   "execution_count": null,
   "id": "95ac7fcc",
   "metadata": {},
   "outputs": [],
   "source": [
    "from custom_agents.base_agent import BaseAgent\n",
    "\n",
    "base_agent = BaseAgent(\n",
    "    name=\"Chatbot\",\n",
    ")"
   ]
  },
  {
   "cell_type": "code",
   "execution_count": null,
   "id": "46a1b66f",
   "metadata": {},
   "outputs": [],
   "source": [
    "result = await base_agent.execute(\"Wie alt wurde Albert Einstein am 14. März 1879?\")"
   ]
  },
  {
   "cell_type": "code",
   "execution_count": null,
   "id": "9ee2989e",
   "metadata": {},
   "outputs": [],
   "source": [
    "result.final_output"
   ]
  },
  {
   "cell_type": "code",
   "execution_count": null,
   "id": "c278a3fb",
   "metadata": {},
   "outputs": [],
   "source": [
    "# from dotenv import load_dotenv\n",
    "# import os\n",
    "from manager import SWOTAnalysisManager\n",
    "\n",
    "# load_dotenv()\n",
    "\n",
    "# print(os.getenv(\"O3_MINI_DEPLOYMENT\"))\n",
    "\n",
    "swot_manager = SWOTAnalysisManager()"
   ]
  },
  {
   "cell_type": "code",
   "execution_count": null,
   "id": "f67b9c99",
   "metadata": {},
   "outputs": [],
   "source": [
    "result = await swot_manager.run(\"Make a very detailed SWOT analysis for SAP and use data from 2025.\")"
   ]
  },
  {
   "cell_type": "markdown",
   "id": "0ba6b738",
   "metadata": {},
   "source": [
    "# Baue den SWOTAnalysisManager"
   ]
  },
  {
   "cell_type": "markdown",
   "id": "3d3a8374",
   "metadata": {},
   "source": [
    "## Aufbau\n",
    "1. Planner\n",
    "2. Searcher\n",
    "3. SWOT"
   ]
  },
  {
   "cell_type": "markdown",
   "id": "c77920c3",
   "metadata": {},
   "source": [
    "### 1. Planner"
   ]
  },
  {
   "cell_type": "code",
   "execution_count": null,
   "id": "7e482c88",
   "metadata": {},
   "outputs": [],
   "source": [
    "from agents import Runner\n",
    "\n",
    "query = \"Make a very detailed SWOT analysis for SAP and use data from 2025.\""
   ]
  },
  {
   "cell_type": "code",
   "execution_count": null,
   "id": "6e278ff1",
   "metadata": {},
   "outputs": [],
   "source": [
    "from custom_agents.planner_agent import PlannerAgent, WebSearchPlan, WebSearchItem\n",
    "from openai.types.responses import ResponseTextDeltaEvent\n",
    "\n",
    "planner_agent = PlannerAgent()\n",
    "planner_result = planner_agent.execute_streamed(f\"Query: {query}\")"
   ]
  },
  {
   "cell_type": "code",
   "execution_count": null,
   "id": "6788640c",
   "metadata": {},
   "outputs": [],
   "source": [
    "for plan in planner_result.final_output_as(WebSearchPlan).searches:\n",
    "    print(f\"{plan.query} ----> {plan.reason}\")"
   ]
  },
  {
   "cell_type": "markdown",
   "id": "d933d242",
   "metadata": {},
   "source": [
    "### 2. Search"
   ]
  },
  {
   "cell_type": "code",
   "execution_count": null,
   "id": "e56221d7",
   "metadata": {},
   "outputs": [],
   "source": [
    "from custom_agents.search_agent import SearchAgent\n",
    "\n",
    "search_agent = SearchAgent()"
   ]
  },
  {
   "cell_type": "code",
   "execution_count": null,
   "id": "451f7ec3",
   "metadata": {},
   "outputs": [],
   "source": [
    "async def search(item: WebSearchItem):\n",
    "    input_data = f\"Search term: {item.query}\\nReason: {item.reason}\\n\"\n",
    "    result = await search_agent.execute(input_data)\n",
    "    return result.final_output\n",
    "    "
   ]
  },
  {
   "cell_type": "code",
   "execution_count": null,
   "id": "a0ea5c14",
   "metadata": {},
   "outputs": [],
   "source": [
    "import asyncio\n",
    "from agents import custom_span\n",
    "\n",
    "tasks = [asyncio.create_task(search(item)) for item in planner_result.final_output_as(WebSearchPlan).searches]\n",
    "\n",
    "with custom_span(\"Search for all items\"):\n",
    "    # await asyncio.gather(*tasks)\n",
    "    search_resutls = []\n",
    "    for task in asyncio.as_completed(tasks):\n",
    "        result = await task\n",
    "        search_resutls.append(result)"
   ]
  },
  {
   "cell_type": "code",
   "execution_count": null,
   "id": "195f8ebd",
   "metadata": {},
   "outputs": [],
   "source": [
    "search_resutls"
   ]
  },
  {
   "cell_type": "markdown",
   "id": "60191573",
   "metadata": {},
   "source": [
    "### 3. SWOT Analysis"
   ]
  },
  {
   "cell_type": "code",
   "execution_count": null,
   "id": "fd5479f6",
   "metadata": {},
   "outputs": [],
   "source": [
    "from custom_agents.swot_agent import SWOTAgent\n",
    "\n",
    "swot_agent = SWOTAgent()\n",
    "\n",
    "input_data = f\"Original query: {query}\\nSummarized search results: {search_resutls}\"\n",
    "\n",
    "swot_result = await swot_agent.execute(input_data, max_turns=20)"
   ]
  },
  {
   "cell_type": "code",
   "execution_count": null,
   "id": "cc7e4954",
   "metadata": {},
   "outputs": [],
   "source": [
    "swot_result.final_output.swot_summary"
   ]
  },
  {
   "cell_type": "markdown",
   "id": "8a86a263",
   "metadata": {},
   "source": [
    "### 4. Test New Manager Class"
   ]
  },
  {
   "cell_type": "code",
   "execution_count": null,
   "id": "878717c3",
   "metadata": {},
   "outputs": [],
   "source": [
    "from manager import SWOTAnalysisManager\n",
    "\n",
    "query = \"Make a very detailed SWOT analysis for SAP and use data from 2025.\"\n",
    "\n",
    "swot_manager = SWOTAnalysisManager()\n",
    "swot_result = await swot_manager.execute_streamed(query)"
   ]
  },
  {
   "cell_type": "code",
   "execution_count": null,
   "id": "f597a4be",
   "metadata": {},
   "outputs": [],
   "source": [
    "for event in swot_result.stream_events():\n",
    "    if isinstance(event, ResponseTextDeltaEvent):\n",
    "        print(event.delta.content, end=\"\")\n",
    "    else:\n",
    "        print(event)"
   ]
  },
  {
   "cell_type": "code",
   "execution_count": null,
   "id": "c1e2f31a",
   "metadata": {},
   "outputs": [],
   "source": []
  },
  {
   "cell_type": "markdown",
   "id": "b2c28544",
   "metadata": {},
   "source": [
    "# New Idea\n",
    "## Aufbau\n",
    "1. Planner ohne Stream\n",
    "2. Search ohne Stream\n",
    "3. SWOT mit Stream"
   ]
  },
  {
   "cell_type": "code",
   "execution_count": null,
   "id": "f1987c71",
   "metadata": {},
   "outputs": [],
   "source": [
    "from manager import SWOTAnalysisManager\n",
    "\n",
    "agent = SWOTAnalysisManager()\n",
    "\n",
    "query = \"Make a SWOT analysis for Deutsche Telekom\""
   ]
  },
  {
   "cell_type": "code",
   "execution_count": null,
   "id": "4363d1c6",
   "metadata": {},
   "outputs": [],
   "source": [
    "planner_result = await agent.planner_agent.execute(f\"Query: {query}\")"
   ]
  },
  {
   "cell_type": "code",
   "execution_count": null,
   "id": "eff94189",
   "metadata": {},
   "outputs": [],
   "source": [
    "n = 1\n",
    "planner_answer = \"\"\n",
    "for item in planner_result.final_output.searches:\n",
    "    planner_answer += f\"{n}. Search Query: {item.query} <--> Reason {item.reason}\\n\"\n",
    "    n += 1"
   ]
  },
  {
   "cell_type": "code",
   "execution_count": null,
   "id": "9e05db7e",
   "metadata": {},
   "outputs": [],
   "source": [
    "planner_answer "
   ]
  },
  {
   "cell_type": "code",
   "execution_count": null,
   "id": "ae82ed03",
   "metadata": {},
   "outputs": [],
   "source": []
  },
  {
   "cell_type": "markdown",
   "id": "99b51672",
   "metadata": {},
   "source": [
    "# 10k-Filings Retrieval"
   ]
  },
  {
   "cell_type": "code",
   "execution_count": null,
   "id": "d1735dbb",
   "metadata": {},
   "outputs": [],
   "source": [
    "# 1. Import the necessary functions from edgartools\n",
    "from edgar import *\n",
    "\n",
    "# 2. Tell the SEC who you are\n",
    "set_identity(\"mike@indigo.com\")\n",
    "\n",
    "# 3. Start using the library\n",
    "filings = get_filings()"
   ]
  },
  {
   "cell_type": "code",
   "execution_count": null,
   "id": "fd81d3a4",
   "metadata": {},
   "outputs": [],
   "source": [
    "# Competitor of SAP\n",
    "competitors = {\n",
    "    \"Competitors_by_Sector\": {\n",
    "        \"Apple Inc.\": \"AAPL\",\n",
    "        \"Microsoft Corporation\": \"MSFT\",\n",
    "        \"NVIDIA Corporation\": \"NVDA\",\n",
    "        \"Broadcom Inc.\": \"AVGO\",\n",
    "        \"Oracle Corporation\": \"ORCL\",\n",
    "        \"Salesforce, Inc.\": \"CRM\",\n",
    "        \"Cisco Systems, Inc.\": \"CSCO\",\n",
    "        \"International Business Machines Corporation\": \"IBM\",\n",
    "        \"Palantir Technologies Inc.\": \"PLTR\",\n",
    "        \"Accenture plc\": \"ACN\"\n",
    "    },\n",
    "    \"Competitors_by_Industry\": {\n",
    "        \"Salesforce, Inc.\": \"CRM\",\n",
    "        \"Intuit Inc.\": \"INTU\",\n",
    "        \"ServiceNow, Inc.\": \"NOW\",\n",
    "        \"Adobe Inc.\": \"ADBE\",\n",
    "        \"Uber Technologies, Inc.\": \"UBER\",\n",
    "        \"Automatic Data Processing, Inc.\": \"ADP\",\n",
    "        \"AppLovin Corporation\": \"APP\",\n",
    "        \"Cadence Design Systems, Inc.\": \"CDNS\",\n",
    "        \"MicroStrategy Incorporated\": \"MSTR\",\n",
    "        \"Workday, Inc.\": \"WDAY\"\n",
    "    }\n",
    "}"
   ]
  },
  {
   "cell_type": "markdown",
   "id": "a4c31363",
   "metadata": {},
   "source": [
    "### Retrieve latest 3 10k forms"
   ]
  },
  {
   "cell_type": "code",
   "execution_count": null,
   "id": "87e2aa9f",
   "metadata": {},
   "outputs": [],
   "source": [
    "# 1. Import the necessary functions from edgartools\n",
    "from edgar import set_identity, get_filings, Company\n",
    "\n",
    "def retrieve_tenk_forms(company_ticker: str, top_k: int, path: str):\n",
    "    set_identity(\"mike@indigo.com\")\n",
    "    # filings = get_filings()\n",
    "    company = Company(company_ticker)\n",
    "    tenk_filings = company.get_filings(form=\"10-K\")\n",
    "\n",
    "    i = 1\n",
    "    for filing in tenk_filings:\n",
    "        if i <= top_k:\n",
    "            filing_name = filing.attachments[1].document.split(sep=\".\")[0]\n",
    "            filing.attachments[1].download(path=f\"{path}/{filing_name}.html\")\n",
    "        i += 1\n",
    "    "
   ]
  },
  {
   "cell_type": "code",
   "execution_count": null,
   "id": "32d7de35",
   "metadata": {},
   "outputs": [],
   "source": [
    "top_k = 3\n",
    "for company_name, ticker in competitors[\"Competitors_by_Sector\"].items():\n",
    "    print(f\"Safe top {top_k} 10k forms for {company_name}\")\n",
    "    retrieve_tenk_forms(ticker, top_k, \"./10k-data\")\n"
   ]
  },
  {
   "cell_type": "code",
   "execution_count": null,
   "id": "22e547ae",
   "metadata": {},
   "outputs": [],
   "source": [
    "top_k = 3\n",
    "for company_name, ticker in competitors[\"Competitors_by_Industry\"].items():\n",
    "    print(f\"Safe top {top_k} 10k forms for {company_name}\")\n",
    "    retrieve_tenk_forms(ticker, top_k, \"./10k-data\")"
   ]
  },
  {
   "cell_type": "code",
   "execution_count": null,
   "id": "12e8e4a9",
   "metadata": {},
   "outputs": [],
   "source": [
    "retrieve_tenk_forms('CRM', 4, \"./10k-data\")"
   ]
  },
  {
   "cell_type": "code",
   "execution_count": null,
   "id": "d5e1c191",
   "metadata": {},
   "outputs": [],
   "source": [
    "company = Company(\"CRM\") # Sales"
   ]
  },
  {
   "cell_type": "code",
   "execution_count": null,
   "id": "8d105096",
   "metadata": {},
   "outputs": [],
   "source": [
    "tenk_filings = company.get_filings(form=\"10-K\")"
   ]
  },
  {
   "cell_type": "code",
   "execution_count": null,
   "id": "49161765",
   "metadata": {},
   "outputs": [],
   "source": [
    "i = 1\n",
    "for filing in tenk_filings:\n",
    "    if i <= 3:\n",
    "        filing_name = filing.attachments[1].document.split(sep=\".\")[0]\n",
    "        filing.attachments[1].download(path=f\"./10k-data/{filing_name}.html\")\n",
    "    i += 1"
   ]
  },
  {
   "cell_type": "code",
   "execution_count": null,
   "id": "674fa385",
   "metadata": {},
   "outputs": [],
   "source": [
    "filings.attachments[1].download(\"./\")"
   ]
  },
  {
   "cell_type": "code",
   "execution_count": null,
   "id": "5862f7e6",
   "metadata": {},
   "outputs": [],
   "source": [
    "filing = filings.attachments[1]"
   ]
  },
  {
   "cell_type": "code",
   "execution_count": null,
   "id": "1f6cb500",
   "metadata": {},
   "outputs": [],
   "source": [
    "type(filing)"
   ]
  },
  {
   "cell_type": "code",
   "execution_count": null,
   "id": "7498db39",
   "metadata": {},
   "outputs": [],
   "source": [
    "type(filings)"
   ]
  },
  {
   "cell_type": "markdown",
   "id": "253596f8",
   "metadata": {},
   "source": [
    "# 10k Filings Chunking, Embedding and Storing"
   ]
  },
  {
   "cell_type": "code",
   "execution_count": null,
   "id": "0de0659e",
   "metadata": {},
   "outputs": [],
   "source": [
    "# process_aapl_file.py\n",
    "\n",
    "import os\n",
    "from bs4 import BeautifulSoup\n",
    "from ingest.chunking import chunk_text\n",
    "from ingest.embedding import generate_embedding\n",
    "from vectorstore.azure_search_client import upload_documents_to_index\n",
    "\n",
    "def process_html_file(file_path: str):\n",
    "    \"\"\"\n",
    "    Reads an HTML file, extracts text using BeautifulSoup,\n",
    "    splits it into smaller chunks, computes embeddings for each chunk,\n",
    "    and returns a list of documents ready to be uploaded.\n",
    "    \"\"\"\n",
    "    # Read the HTML file from disk\n",
    "    with open(file_path, 'r', encoding='utf-8') as f:\n",
    "        html_content = f.read()\n",
    "    \n",
    "    # Use BeautifulSoup to extract plain text\n",
    "    soup = BeautifulSoup(html_content, \"html.parser\")\n",
    "    text = soup.get_text(separator=\"\\n\")\n",
    "    \n",
    "    # Split the extracted text into chunks (default: chunk_size=1000, overlap=100)\n",
    "    chunks = chunk_text(text)\n",
    "    documents = []\n",
    "    \n",
    "    # Process each chunk: compute embedding and create a document structure\n",
    "    for index, chunk in enumerate(chunks):\n",
    "        # Compute the embedding for this text chunk\n",
    "        embedding = generate_embedding(chunk)\n",
    "        # Create a unique identifier for the chunk\n",
    "        doc_id = f\"aapl-20240928_{index}\"\n",
    "        document = {\n",
    "            \"id\": doc_id,\n",
    "            \"data\": chunk,\n",
    "            \"dataVector\": embedding,\n",
    "            # Additional metadata can be added below as needed:\n",
    "            \"metadata\": \"10k filing for Apple Inc.\",\n",
    "            \"year\": 2024,\n",
    "            \"companyname\": \"Apple Inc.\"\n",
    "        }\n",
    "        documents.append(document)\n",
    "    \n",
    "    return documents"
   ]
  },
  {
   "cell_type": "code",
   "execution_count": null,
   "id": "304f5435",
   "metadata": {},
   "outputs": [],
   "source": [
    "# Path to your local HTML file\n",
    "file_path = \"aapl-20240928.html\"\n",
    "\n",
    "# Process the HTML file into chunked documents with embeddings\n",
    "documents = process_html_file(file_path)\n",
    "print(f\"Processed {len(documents)} chunks from {file_path}.\")\n",
    "\n",
    "# Upload the processed documents to your Azure Cognitive Search index\n",
    "upload_documents_to_index(documents)\n",
    "print(\"Documents uploaded to Azure Search index.\")"
   ]
  },
  {
   "cell_type": "code",
   "execution_count": null,
   "id": "ad801996",
   "metadata": {},
   "outputs": [],
   "source": []
  }
 ],
 "metadata": {
  "kernelspec": {
   "display_name": ".venv",
   "language": "python",
   "name": "python3"
  },
  "language_info": {
   "codemirror_mode": {
    "name": "ipython",
    "version": 3
   },
   "file_extension": ".py",
   "mimetype": "text/x-python",
   "name": "python",
   "nbconvert_exporter": "python",
   "pygments_lexer": "ipython3",
   "version": "3.12.9"
  }
 },
 "nbformat": 4,
 "nbformat_minor": 5
}
