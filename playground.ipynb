{
 "cells": [
  {
   "cell_type": "code",
   "execution_count": null,
   "id": "e5a1a9ec",
   "metadata": {},
   "outputs": [],
   "source": [
    "from src.custom_agents.planner_agent import PlannerAgent\n",
    "\n",
    "planner_agent = PlannerAgent()\n"
   ]
  },
  {
   "cell_type": "code",
   "execution_count": null,
   "id": "98298f9c",
   "metadata": {},
   "outputs": [],
   "source": [
    "await planner_agent.execute(\"Make a SWOT analysis for apple Inc.\")"
   ]
  },
  {
   "cell_type": "code",
   "execution_count": null,
   "id": "9dbd1c99",
   "metadata": {},
   "outputs": [],
   "source": [
    "from src.custom_agents.base import BaseAgent\n",
    "import os \n",
    "agent = BaseAgent(\"test bot\", \"\", os.getenv(\"\"))\n",
    "await agent.execute(\"Make a SWOT analysis for apple Inc.\")"
   ]
  },
  {
   "cell_type": "code",
   "execution_count": null,
   "id": "56ed6ece",
   "metadata": {},
   "outputs": [],
   "source": [
    "import os\n",
    "from dotenv import load_dotenv\n",
    "from openai import AzureOpenAI, AsyncAzureOpenAI\n",
    "\n",
    "_ = load_dotenv()\n",
    "\n",
    "client = AsyncAzureOpenAI(\n",
    "    api_key=os.getenv(\"AZURE_OPENAI_API_KEY\"),\n",
    "    azure_endpoint=os.getenv(\"AZURE_OPENAI_ENDPOINT\"),\n",
    "    api_version=os.getenv(\"AZURE_OPENAI_API_VERSION\"),\n",
    ")"
   ]
  },
  {
   "cell_type": "code",
   "execution_count": null,
   "id": "4f471619",
   "metadata": {},
   "outputs": [],
   "source": [
    "from agents import Agent, Runner, OpenAIChatCompletionsModel\n",
    "\n",
    "agent = Agent(\n",
    "    name=\"Assistant\",\n",
    "    instructions=\"You are a helpful assistant\",\n",
    "    model=OpenAIChatCompletionsModel(\n",
    "        model=os.getenv(\"GPT4O_MINI_DEPLOYMENT\"),\n",
    "        openai_client=client,\n",
    "    )\n",
    ")"
   ]
  },
  {
   "cell_type": "code",
   "execution_count": null,
   "id": "05b4c1e1",
   "metadata": {},
   "outputs": [],
   "source": [
    "result = await Runner.run(\n",
    "    agent,\n",
    "    \"Make a SWOT analysis for apple Inc.\",\n",
    ")"
   ]
  },
  {
   "cell_type": "code",
   "execution_count": null,
   "id": "0f914f12",
   "metadata": {},
   "outputs": [],
   "source": [
    "result.raw_responses"
   ]
  },
  {
   "cell_type": "code",
   "execution_count": null,
   "id": "2a9dda7f",
   "metadata": {},
   "outputs": [],
   "source": [
    "from custom_agents.swot_agent import SWOTAgent\n",
    "\n",
    "planner_agent = SWOTAgent()\n",
    "resutl = await planner_agent.execute(\"Make a SWOT analysis for apple Inc.\")"
   ]
  },
  {
   "cell_type": "code",
   "execution_count": null,
   "id": "51d8bf2b",
   "metadata": {},
   "outputs": [],
   "source": [
    "for output in resutl.final_output:\n",
    "    print(output)"
   ]
  },
  {
   "cell_type": "code",
   "execution_count": null,
   "id": "95ac7fcc",
   "metadata": {},
   "outputs": [],
   "source": [
    "from custom_agents.base_agent import BaseAgent\n",
    "\n",
    "base_agent = BaseAgent(\n",
    "    name=\"Chatbot\",\n",
    ")"
   ]
  },
  {
   "cell_type": "code",
   "execution_count": null,
   "id": "46a1b66f",
   "metadata": {},
   "outputs": [],
   "source": [
    "result = await base_agent.execute(\"Wie alt wurde Albert Einstein am 14. März 1879?\")"
   ]
  },
  {
   "cell_type": "code",
   "execution_count": null,
   "id": "9ee2989e",
   "metadata": {},
   "outputs": [],
   "source": [
    "result.final_output"
   ]
  },
  {
   "cell_type": "code",
   "execution_count": null,
   "id": "c278a3fb",
   "metadata": {},
   "outputs": [],
   "source": [
    "# from dotenv import load_dotenv\n",
    "# import os\n",
    "from manager import SWOTAnalysisManager\n",
    "\n",
    "# load_dotenv()\n",
    "\n",
    "# print(os.getenv(\"O3_MINI_DEPLOYMENT\"))\n",
    "\n",
    "swot_manager = SWOTAnalysisManager()"
   ]
  },
  {
   "cell_type": "code",
   "execution_count": null,
   "id": "f67b9c99",
   "metadata": {},
   "outputs": [],
   "source": [
    "result = await swot_manager.run(\"Make a very detailed SWOT analysis for SAP and use data from 2025.\")"
   ]
  },
  {
   "cell_type": "code",
   "execution_count": null,
   "id": "6e278ff1",
   "metadata": {},
   "outputs": [],
   "source": [
    "result"
   ]
  },
  {
   "cell_type": "code",
   "execution_count": null,
   "id": "23bf7f88",
   "metadata": {},
   "outputs": [],
   "source": [
    "from custom_agents.config import Settings\n",
    "\n",
    "settings = Settings()"
   ]
  },
  {
   "cell_type": "code",
   "execution_count": null,
   "id": "6788640c",
   "metadata": {},
   "outputs": [],
   "source": []
  }
 ],
 "metadata": {
  "kernelspec": {
   "display_name": ".venv",
   "language": "python",
   "name": "python3"
  },
  "language_info": {
   "codemirror_mode": {
    "name": "ipython",
    "version": 3
   },
   "file_extension": ".py",
   "mimetype": "text/x-python",
   "name": "python",
   "nbconvert_exporter": "python",
   "pygments_lexer": "ipython3",
   "version": "3.12.9"
  }
 },
 "nbformat": 4,
 "nbformat_minor": 5
}
