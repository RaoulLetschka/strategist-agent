{
 "cells": [
  {
   "cell_type": "code",
   "execution_count": null,
   "id": "e5a1a9ec",
   "metadata": {},
   "outputs": [],
   "source": [
    "from src.custom_agents.planner_agent import PlannerAgent\n",
    "\n",
    "planner_agent = PlannerAgent()\n"
   ]
  },
  {
   "cell_type": "code",
   "execution_count": null,
   "id": "98298f9c",
   "metadata": {},
   "outputs": [],
   "source": [
    "await planner_agent.execute(\"Make a SWOT analysis for apple Inc.\")"
   ]
  },
  {
   "cell_type": "code",
   "execution_count": null,
   "id": "9dbd1c99",
   "metadata": {},
   "outputs": [],
   "source": [
    "from src.custom_agents.base import BaseAgent\n",
    "import os \n",
    "agent = BaseAgent(\"test bot\", \"\", os.getenv(\"\"))\n",
    "await agent.execute(\"Make a SWOT analysis for apple Inc.\")"
   ]
  },
  {
   "cell_type": "code",
   "execution_count": null,
   "id": "56ed6ece",
   "metadata": {},
   "outputs": [],
   "source": [
    "import os\n",
    "from dotenv import load_dotenv\n",
    "from openai import AzureOpenAI, AsyncAzureOpenAI\n",
    "\n",
    "_ = load_dotenv()\n",
    "\n",
    "client = AsyncAzureOpenAI(\n",
    "    api_key=os.getenv(\"AZURE_OPENAI_API_KEY\"),\n",
    "    azure_endpoint=os.getenv(\"AZURE_OPENAI_ENDPOINT\"),\n",
    "    api_version=os.getenv(\"AZURE_OPENAI_API_VERSION\"),\n",
    ")"
   ]
  },
  {
   "cell_type": "code",
   "execution_count": null,
   "id": "4f471619",
   "metadata": {},
   "outputs": [],
   "source": [
    "from agents import Agent, Runner, OpenAIChatCompletionsModel\n",
    "\n",
    "agent = Agent(\n",
    "    name=\"Assistant\",\n",
    "    instructions=\"You are a helpful assistant\",\n",
    "    model=OpenAIChatCompletionsModel(\n",
    "        model=os.getenv(\"GPT4O_MINI_DEPLOYMENT\"),\n",
    "        openai_client=client,\n",
    "    )\n",
    ")"
   ]
  },
  {
   "cell_type": "code",
   "execution_count": null,
   "id": "05b4c1e1",
   "metadata": {},
   "outputs": [],
   "source": [
    "result = await Runner.run(\n",
    "    agent,\n",
    "    \"Make a SWOT analysis for apple Inc.\",\n",
    ")"
   ]
  },
  {
   "cell_type": "code",
   "execution_count": null,
   "id": "0f914f12",
   "metadata": {},
   "outputs": [],
   "source": [
    "result.raw_responses"
   ]
  },
  {
   "cell_type": "code",
   "execution_count": null,
   "id": "2a9dda7f",
   "metadata": {},
   "outputs": [],
   "source": [
    "from custom_agents.swot_agent import SWOTAgent\n",
    "\n",
    "planner_agent = SWOTAgent()\n",
    "resutl = await planner_agent.execute(\"Make a SWOT analysis for apple Inc.\")"
   ]
  },
  {
   "cell_type": "code",
   "execution_count": null,
   "id": "51d8bf2b",
   "metadata": {},
   "outputs": [],
   "source": [
    "for output in resutl.final_output:\n",
    "    print(output)"
   ]
  },
  {
   "cell_type": "code",
   "execution_count": null,
   "id": "95ac7fcc",
   "metadata": {},
   "outputs": [],
   "source": [
    "from custom_agents.base_agent import BaseAgent\n",
    "\n",
    "base_agent = BaseAgent(\n",
    "    name=\"Chatbot\",\n",
    ")"
   ]
  },
  {
   "cell_type": "code",
   "execution_count": null,
   "id": "46a1b66f",
   "metadata": {},
   "outputs": [],
   "source": [
    "result = await base_agent.execute(\"Wie alt wurde Albert Einstein am 14. März 1879?\")"
   ]
  },
  {
   "cell_type": "code",
   "execution_count": null,
   "id": "9ee2989e",
   "metadata": {},
   "outputs": [],
   "source": [
    "result.final_output"
   ]
  },
  {
   "cell_type": "code",
   "execution_count": null,
   "id": "c278a3fb",
   "metadata": {},
   "outputs": [],
   "source": [
    "# from dotenv import load_dotenv\n",
    "# import os\n",
    "from manager import SWOTAnalysisManager\n",
    "\n",
    "# load_dotenv()\n",
    "\n",
    "# print(os.getenv(\"O3_MINI_DEPLOYMENT\"))\n",
    "\n",
    "swot_manager = SWOTAnalysisManager()"
   ]
  },
  {
   "cell_type": "code",
   "execution_count": null,
   "id": "f67b9c99",
   "metadata": {},
   "outputs": [],
   "source": [
    "result = await swot_manager.run(\"Make a very detailed SWOT analysis for SAP and use data from 2025.\")"
   ]
  },
  {
   "cell_type": "markdown",
   "id": "0ba6b738",
   "metadata": {},
   "source": [
    "# Baue den SWOTAnalysisManager"
   ]
  },
  {
   "cell_type": "markdown",
   "id": "3d3a8374",
   "metadata": {},
   "source": [
    "## Aufbau\n",
    "1. Planner\n",
    "2. Searcher\n",
    "3. SWOT"
   ]
  },
  {
   "cell_type": "markdown",
   "id": "c77920c3",
   "metadata": {},
   "source": [
    "### 1. Planner"
   ]
  },
  {
   "cell_type": "code",
   "execution_count": null,
   "id": "7e482c88",
   "metadata": {},
   "outputs": [],
   "source": [
    "from agents import Runner\n",
    "\n",
    "query = \"Make a very detailed SWOT analysis for SAP and use data from 2025.\""
   ]
  },
  {
   "cell_type": "code",
   "execution_count": null,
   "id": "6e278ff1",
   "metadata": {},
   "outputs": [],
   "source": [
    "from custom_agents.planner_agent import PlannerAgent, WebSearchPlan, WebSearchItem\n",
    "from openai.types.responses import ResponseTextDeltaEvent\n",
    "\n",
    "planner_agent = PlannerAgent()\n",
    "planner_result = planner_agent.execute_streamed(f\"Query: {query}\")"
   ]
  },
  {
   "cell_type": "code",
   "execution_count": null,
   "id": "6788640c",
   "metadata": {},
   "outputs": [],
   "source": [
    "for plan in planner_result.final_output_as(WebSearchPlan).searches:\n",
    "    print(f\"{plan.query} ----> {plan.reason}\")"
   ]
  },
  {
   "cell_type": "markdown",
   "id": "d933d242",
   "metadata": {},
   "source": [
    "### 2. Search"
   ]
  },
  {
   "cell_type": "code",
   "execution_count": null,
   "id": "e56221d7",
   "metadata": {},
   "outputs": [],
   "source": [
    "from custom_agents.search_agent import SearchAgent\n",
    "\n",
    "search_agent = SearchAgent()"
   ]
  },
  {
   "cell_type": "code",
   "execution_count": null,
   "id": "451f7ec3",
   "metadata": {},
   "outputs": [],
   "source": [
    "async def search(item: WebSearchItem):\n",
    "    input_data = f\"Search term: {item.query}\\nReason: {item.reason}\\n\"\n",
    "    result = await search_agent.execute(input_data)\n",
    "    return result.final_output\n",
    "    "
   ]
  },
  {
   "cell_type": "code",
   "execution_count": null,
   "id": "a0ea5c14",
   "metadata": {},
   "outputs": [],
   "source": [
    "import asyncio\n",
    "from agents import custom_span\n",
    "\n",
    "tasks = [asyncio.create_task(search(item)) for item in planner_result.final_output_as(WebSearchPlan).searches]\n",
    "\n",
    "with custom_span(\"Search for all items\"):\n",
    "    # await asyncio.gather(*tasks)\n",
    "    search_resutls = []\n",
    "    for task in asyncio.as_completed(tasks):\n",
    "        result = await task\n",
    "        search_resutls.append(result)"
   ]
  },
  {
   "cell_type": "code",
   "execution_count": null,
   "id": "195f8ebd",
   "metadata": {},
   "outputs": [],
   "source": [
    "search_resutls"
   ]
  },
  {
   "cell_type": "markdown",
   "id": "60191573",
   "metadata": {},
   "source": [
    "### 3. SWOT Analysis"
   ]
  },
  {
   "cell_type": "code",
   "execution_count": null,
   "id": "fd5479f6",
   "metadata": {},
   "outputs": [],
   "source": [
    "from custom_agents.swot_agent import SWOTAgent\n",
    "\n",
    "swot_agent = SWOTAgent()\n",
    "\n",
    "input_data = f\"Original query: {query}\\nSummarized search results: {search_resutls}\"\n",
    "\n",
    "swot_result = await swot_agent.execute(input_data, max_turns=20)"
   ]
  },
  {
   "cell_type": "code",
   "execution_count": null,
   "id": "cc7e4954",
   "metadata": {},
   "outputs": [],
   "source": [
    "swot_result.final_output.swot_summary"
   ]
  },
  {
   "cell_type": "markdown",
   "id": "8a86a263",
   "metadata": {},
   "source": [
    "### 4. Test New Manager Class"
   ]
  },
  {
   "cell_type": "code",
   "execution_count": null,
   "id": "878717c3",
   "metadata": {},
   "outputs": [],
   "source": [
    "from manager import SWOTAnalysisManager\n",
    "\n",
    "query = \"Make a very detailed SWOT analysis for SAP and use data from 2025.\"\n",
    "\n",
    "swot_manager = SWOTAnalysisManager()\n",
    "swot_result = await swot_manager.execute_streamed(query)"
   ]
  },
  {
   "cell_type": "code",
   "execution_count": null,
   "id": "f597a4be",
   "metadata": {},
   "outputs": [],
   "source": [
    "for event in swot_result.stream_events():\n",
    "    if isinstance(event, ResponseTextDeltaEvent):\n",
    "        print(event.delta.content, end=\"\")\n",
    "    else:\n",
    "        print(event)"
   ]
  },
  {
   "cell_type": "code",
   "execution_count": null,
   "id": "c1e2f31a",
   "metadata": {},
   "outputs": [],
   "source": []
  },
  {
   "cell_type": "markdown",
   "id": "b2c28544",
   "metadata": {},
   "source": [
    "# New Idea\n",
    "## Aufbau\n",
    "1. Planner ohne Stream\n",
    "2. Search ohne Stream\n",
    "3. SWOT mit Stream"
   ]
  },
  {
   "cell_type": "code",
   "execution_count": null,
   "id": "f1987c71",
   "metadata": {},
   "outputs": [],
   "source": [
    "from manager import SWOTAnalysisManager\n",
    "\n",
    "agent = SWOTAnalysisManager()\n",
    "\n",
    "query = \"Make a SWOT analysis for Deutsche Telekom\""
   ]
  },
  {
   "cell_type": "code",
   "execution_count": null,
   "id": "4363d1c6",
   "metadata": {},
   "outputs": [],
   "source": [
    "planner_result = await agent.planner_agent.execute(f\"Query: {query}\")"
   ]
  },
  {
   "cell_type": "code",
   "execution_count": null,
   "id": "eff94189",
   "metadata": {},
   "outputs": [],
   "source": [
    "n = 1\n",
    "planner_answer = \"\"\n",
    "for item in planner_result.final_output.searches:\n",
    "    planner_answer += f\"{n}. Search Query: {item.query} <--> Reason {item.reason}\\n\"\n",
    "    n += 1"
   ]
  },
  {
   "cell_type": "code",
   "execution_count": null,
   "id": "9e05db7e",
   "metadata": {},
   "outputs": [],
   "source": [
    "planner_answer "
   ]
  },
  {
   "cell_type": "code",
   "execution_count": null,
   "id": "ae82ed03",
   "metadata": {},
   "outputs": [],
   "source": []
  },
  {
   "cell_type": "markdown",
   "id": "99b51672",
   "metadata": {},
   "source": [
    "# 10k-Filings Retrieval"
   ]
  },
  {
   "cell_type": "code",
   "execution_count": null,
   "id": "d1735dbb",
   "metadata": {},
   "outputs": [],
   "source": [
    "# 1. Import the necessary functions from edgartools\n",
    "from edgar import *\n",
    "\n",
    "# 2. Tell the SEC who you are\n",
    "set_identity(\"mike@indigo.com\")\n",
    "\n",
    "# 3. Start using the library\n",
    "filings = get_filings()"
   ]
  },
  {
   "cell_type": "code",
   "execution_count": null,
   "id": "d5e1c191",
   "metadata": {},
   "outputs": [],
   "source": [
    "company = Company(\"AAPL\") # or Company(\"0000320193\") or Company(320193)"
   ]
  },
  {
   "cell_type": "code",
   "execution_count": null,
   "id": "0c1dd369",
   "metadata": {},
   "outputs": [],
   "source": [
    "filings = company.get_filings(form='10-K').latest()"
   ]
  },
  {
   "cell_type": "code",
   "execution_count": null,
   "id": "674fa385",
   "metadata": {},
   "outputs": [],
   "source": [
    "filings.attachments[1].download(\"./\")"
   ]
  },
  {
   "cell_type": "code",
   "execution_count": null,
   "id": "5862f7e6",
   "metadata": {},
   "outputs": [],
   "source": [
    "filing = filings.attachments[1]"
   ]
  },
  {
   "cell_type": "code",
   "execution_count": null,
   "id": "1f6cb500",
   "metadata": {},
   "outputs": [],
   "source": [
    "type(filing)"
   ]
  },
  {
   "cell_type": "code",
   "execution_count": null,
   "id": "7498db39",
   "metadata": {},
   "outputs": [],
   "source": [
    "type(filings)"
   ]
  }
 ],
 "metadata": {
  "kernelspec": {
   "display_name": ".venv",
   "language": "python",
   "name": "python3"
  },
  "language_info": {
   "codemirror_mode": {
    "name": "ipython",
    "version": 3
   },
   "file_extension": ".py",
   "mimetype": "text/x-python",
   "name": "python",
   "nbconvert_exporter": "python",
   "pygments_lexer": "ipython3",
   "version": "3.13.2"
  }
 },
 "nbformat": 4,
 "nbformat_minor": 5
}
